{
 "cells": [
  {
   "cell_type": "code",
   "execution_count": 1,
   "id": "c27ac131",
   "metadata": {},
   "outputs": [],
   "source": [
    "import pandas as pd\n",
    "import numpy as np\n",
    "\n",
    "path = \"/Users/onurhanaydin/Desktop/Bareways/\""
   ]
  },
  {
   "cell_type": "code",
   "execution_count": 2,
   "id": "fc8b6712",
   "metadata": {},
   "outputs": [
    {
     "name": "stdout",
     "output_type": "stream",
     "text": [
      "Day 12 Part 1: 472\n",
      "Day 12 Part 2: 465\n"
     ]
    }
   ],
   "source": [
    "# Read the file and get the grid as a list of lines\n",
    "with open(path + 'day12.txt', 'r') as file:\n",
    "    l = [] \n",
    "    for line in file:\n",
    "        l.append(list(line.strip())) # it cleans up \"\\n\" and converts each line to character list. Now, l is 2D\n",
    "\n",
    "# Find the start and end positions, and gather all possible starting points\n",
    "possible_start = []\n",
    "for r in range(len(l)):\n",
    "    for c in range(len(l[0])):\n",
    "        if l[r][c] == 'S':\n",
    "            l[r][c] = 'a'\n",
    "            start = (r, c)\n",
    "        elif l[r][c] == 'E':\n",
    "            l[r][c] = 'z'\n",
    "            end = (r, c)\n",
    "        if l[r][c] == 'a':\n",
    "            possible_start.append(((r, c), 0))\n",
    "\n",
    "# Function to search for the shortest path\n",
    "def shortest(paths):\n",
    "    visited = set()  # Use a set for faster lookups\n",
    "    while len(paths) > 0:\n",
    "        current_path = paths.pop(0)  # Take the first element\n",
    "        pos = current_path[0]        # it shows the position of the \"current_path\"\n",
    "        steps = current_path[1]      # it shows the number of steps of the \"current_path\"\n",
    "\n",
    "        if pos == end:               # If the current position is ending position, let's return steps\n",
    "            return steps\n",
    "        if pos not in visited:       # If the current position is not visited before, add it to the \"visited\" set\n",
    "            visited.add(pos)\n",
    "            r, c = pos               # Let's separate the current position as row and column\n",
    "            for i, j in [(r-1, c), (r+1, c), (r, c-1), (r, c+1)]: # Check neighbor of the current position\n",
    "                \n",
    "                # The neighbor positions are checked whether they are in the grid and visited before\n",
    "                if 0 <= i < len(l) and 0 <= j < len(l[0]) and (i, j) not in visited:\n",
    "                    \n",
    "                    # It checks whether the height of the neighbor position is 1 unit bigger than the current position\n",
    "                    if 'abcdefghijklmnopqrstuvwxyz'.index(l[i][j]) <= 'abcdefghijklmnopqrstuvwxyz'.index(l[r][c]) + 1:\n",
    "                        paths.append(((i, j), steps+1)) # If so, add the neighbor position and steps to 'paths' list\n",
    "    return float('inf')  # Use float('inf') to indicate that no valid path was found\n",
    "\n",
    "\n",
    "# Part-I\n",
    "print('Day 12 Part 1:', shortest([(start, 0)]))\n",
    "\n",
    "# Part-II\n",
    "all_paths = []\n",
    "for s in possible_start:\n",
    "    path_length = shortest([(s[0], 0)])\n",
    "    all_paths.append(path_length)\n",
    "\n",
    "valid_paths = []\n",
    "for n in all_paths:\n",
    "    if n != float('inf'):\n",
    "        valid_paths.append(n)\n",
    "\n",
    "print('Day 12 Part 2:', min(valid_paths) if valid_paths else \"No valid path found\")\n"
   ]
  },
  {
   "cell_type": "code",
   "execution_count": null,
   "id": "52122ce7",
   "metadata": {},
   "outputs": [],
   "source": []
  }
 ],
 "metadata": {
  "kernelspec": {
   "display_name": "Python 3 (ipykernel)",
   "language": "python",
   "name": "python3"
  },
  "language_info": {
   "codemirror_mode": {
    "name": "ipython",
    "version": 3
   },
   "file_extension": ".py",
   "mimetype": "text/x-python",
   "name": "python",
   "nbconvert_exporter": "python",
   "pygments_lexer": "ipython3",
   "version": "3.11.5"
  }
 },
 "nbformat": 4,
 "nbformat_minor": 5
}
