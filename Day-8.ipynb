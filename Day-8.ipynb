{
 "cells": [
  {
   "cell_type": "code",
   "execution_count": 42,
   "id": "df416a0f",
   "metadata": {},
   "outputs": [],
   "source": [
    "import pandas as pd\n",
    "import numpy as np\n",
    "\n",
    "path = \"/Users/onurhanaydin/Desktop/Bareways/\""
   ]
  },
  {
   "cell_type": "code",
   "execution_count": 43,
   "id": "7887a60d",
   "metadata": {},
   "outputs": [
    {
     "name": "stdout",
     "output_type": "stream",
     "text": [
      "1849\n"
     ]
    }
   ],
   "source": [
    "# Read the file and get all lines as a list\n",
    "with open(path + \"day8.txt\", 'r') as file:\n",
    "    l = file.readlines() \n",
    "\n",
    "# Part-I\n",
    "\n",
    "# Convert each character in each line to integer by removing \"\\n\" character\n",
    "l = [[int(char) for char in line.strip()] for line in l]\n",
    "# Now, \"l\" is a 2D list\n",
    "\n",
    "count = 0\n",
    "for r in range(len(l)): # there are 99 rows. So, it creates a loop for each row (r)\n",
    "    for c in range(len(l[r])): # there are 99 columns. So, it creates a loop for each column (c)\n",
    "\n",
    "        left = []\n",
    "        for x in l[r][:c]: # Checks the trees to the left of the current tree. \n",
    "            if x >= l[r][c]: # If these trees are bigger or equal, they are added to the list.\n",
    "                left.append(x)\n",
    "                \n",
    "        right = []\n",
    "        for x in l[r][c+1:]: # Checks the trees to the right of the current tree.\n",
    "            if x >= l[r][c]: # If these trees are bigger or equal, they are added to the list.\n",
    "                right.append(x)\n",
    "                \n",
    "        up = []\n",
    "        for y in range(r): # Checks the trees above the current tree.\n",
    "            if l[y][c] >= l[r][c]: # If these trees are bigger or equal, they are added to the list.\n",
    "                up.append(l[y][c])\n",
    "\n",
    "        down = []\n",
    "        for y in range(r + 1, len(l)): # Checks the trees below the current tree.\n",
    "            if l[y][c] >= l[r][c]: # If these trees are bigger or equal, they are added to the list.\n",
    "                down.append(l[y][c])\n",
    "                \n",
    "# If there are no bigger or equal trees to the left, right, above, and below (checked by not), \n",
    "# increase the count by 1.\n",
    "        count += not (left and right and up and down)\n",
    "\n",
    "print(count)"
   ]
  },
  {
   "cell_type": "code",
   "execution_count": 44,
   "id": "3930b1eb",
   "metadata": {},
   "outputs": [
    {
     "name": "stdout",
     "output_type": "stream",
     "text": [
      "201600\n"
     ]
    }
   ],
   "source": [
    "# Part-II\n",
    "\n",
    "score_list = []\n",
    "for r in range(len(l)):\n",
    "    for c in range(len(l[r])):\n",
    "        \n",
    "        left_trees = 0 \n",
    "        for x in range(c-1, -1, -1):  # check the trees left. Start from c to 0. \"-1\" refers to one step back\n",
    "            left_trees += 1           # If the current tree is higher than tree left, increase the number\n",
    "            if l[r][x] >= l[r][c]:    # If not, break the loop\n",
    "                break\n",
    "        \n",
    "        right_trees = 0\n",
    "        for x in range(c+1, len(l[r])):  # check the trees right. Start from \"c+1\" to the right end \n",
    "            right_trees += 1             # If the current tree is higher than tree right, increase the number\n",
    "            if l[r][x] >= l[r][c]:       # If not, break the loop\n",
    "                break\n",
    "        \n",
    "        up_trees = 0\n",
    "        for y in range(r-1, -1, -1):  # check the trees up. Start from r to 0 (top). \"-1\" refers to one step up (back)\n",
    "            up_trees += 1             # If the current tree is higher than tree up, increase the number\n",
    "            if l[y][c] >= l[r][c]:    # If not, break the loop\n",
    "                break\n",
    "        \n",
    "        down_trees = 0\n",
    "        for y in range(r+1, len(l)):  # check the trees down. Start from \"r+1\" to the bottom\n",
    "            down_trees += 1           # If the current tree is higher than tree down, increase the number\n",
    "            if l[y][c] >= l[r][c]:    # If not, break the loop\n",
    "                break\n",
    "        \n",
    "        # Calculate the score\n",
    "        score = left_trees * right_trees * up_trees * down_trees\n",
    "\n",
    "        score_list.append(score)\n",
    "\n",
    "print(max(score_list))"
   ]
  },
  {
   "cell_type": "code",
   "execution_count": null,
   "id": "f289dc20",
   "metadata": {},
   "outputs": [],
   "source": []
  }
 ],
 "metadata": {
  "kernelspec": {
   "display_name": "Python 3 (ipykernel)",
   "language": "python",
   "name": "python3"
  },
  "language_info": {
   "codemirror_mode": {
    "name": "ipython",
    "version": 3
   },
   "file_extension": ".py",
   "mimetype": "text/x-python",
   "name": "python",
   "nbconvert_exporter": "python",
   "pygments_lexer": "ipython3",
   "version": "3.11.5"
  }
 },
 "nbformat": 4,
 "nbformat_minor": 5
}
